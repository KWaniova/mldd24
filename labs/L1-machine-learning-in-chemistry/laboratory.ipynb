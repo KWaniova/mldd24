{
 "cells": [
  {
   "cell_type": "code",
   "execution_count": 2,
   "id": "ff4b9847",
   "metadata": {},
   "outputs": [
    {
     "name": "stdout",
     "output_type": "stream",
     "text": [
      "The history saving thread hit an unexpected error (OperationalError('database is locked')).History will not be written to the database.\n"
     ]
    }
   ],
   "source": [
    "import sys\n",
    "sys.path.append('..')"
   ]
  },
  {
   "cell_type": "markdown",
   "id": "79c0f835-42ea-4e0c-89af-d9215873d26e",
   "metadata": {
    "jp-MarkdownHeadingCollapsed": true
   },
   "source": [
    "# Meet your team\n",
    "\n",
    "---\n",
    "\n",
    "This semester holds a thrilling challenge: **crafting groundbreaking pharmaceuticals**. Get ready to delve into the fascinating world of chemical databases and diverse data formats driving cheminformatics. Brace yourself for mastering revolutionary machine-learning techniques designed to analyze molecules and generate fresh ideas for potential drug breakthroughs. As you embark on this journey, envision yourself as the guiding force in an interdisciplinary team, propelling each other towards remarkable discoveries. Success awaits those who dare to push boundaries. Best of luck on your exhilarating expedition!\n",
    "\n",
    "<div style=\"display: flex; justify-content: space-between\">\n",
    "    <div style=\"width: 20%; display: inline-block; margin: 20px\">\n",
    "        <img src=\"../../assets/profile1.png\" width=\"100%\">\n",
    "        <div style=\"text-align: center; font-weight: bold\">Nitro</div>\n",
    "        <div style=\"text-align: center\">Chemist</div>\n",
    "    </div>\n",
    "    <div style=\"width: 20%; display: inline-block; margin: 20px\">\n",
    "        <img src=\"../../assets/profile2.png\" width=\"100%\">\n",
    "        <div style=\"text-align: center; font-weight: bold\">Ester</div>\n",
    "        <div style=\"text-align: center\">Data Analyst</div>\n",
    "    </div>\n",
    "    <div style=\"width: 20%; display: inline-block; margin: 20px\">\n",
    "        <img src=\"../../assets/profile3.png\" width=\"100%\">\n",
    "        <div style=\"text-align: center; font-weight: bold\">Orion</div>\n",
    "        <div style=\"text-align: center\">Cheminformatician</div>\n",
    "    </div>\n",
    "    <div style=\"width: 20%; display: inline-block; margin: 20px\">\n",
    "        <img src=\"../../assets/profile4.png\" width=\"100%\">\n",
    "        <div style=\"text-align: center; font-weight: bold\">Ami</div>\n",
    "        <div style=\"text-align: center\">Biologist</div>\n",
    "    </div>\n",
    "</div>"
   ]
  },
  {
   "cell_type": "markdown",
   "id": "cfec5dbe",
   "metadata": {},
   "source": [
    "# Python 🐍\n",
    "\n",
    "----\n",
    "\n",
    "## Environment Setup\n",
    "\n",
    "We'll be using **Python** during these classes. Instructions on how to install all the required packages can be found in the README file on the main page of this repository. We'll be using **Jupyter** notebooks as a coding environment. To run a notebook you need to:\n",
    "\n",
    "1. Activate the created conda environment: `conda activate mldd23`\n",
    "2. Run the Jupyter server using the command: `jupyter notebook`\n",
    "3. The notebook should start in your browser automatically. If that doesn't happen, you should type `localhost:8888` into your browser (8888 is the default port, but you can check the exact port in the console output when the notebook is running)\n",
    "\n",
    "An alternative for running notebooks on your computer is using [**Colab**](https://colab.research.google.com/). In this case all the results are saved to your Google Drive. An obvious downside is that many of the chemistry-related packages will be difficult to install in Colab.\n",
    "\n",
    "## For Beginners\n",
    "\n",
    "The recommended Python courses:\n",
    "\n",
    "- JU course: [\"Python for data processing\"](https://github.com/gmum/python-for-data-processing)\n",
    "- JU course: [\"Effective Python\"](https://github.com/kmisztal/effective_python)\n",
    "- MIT course: [\"Introduction to Computer Science and Programming in Python\"](https://ocw.mit.edu/courses/6-0001-introduction-to-computer-science-and-programming-in-python-fall-2016/)\n",
    "- Coursera: [\"Python Basics\"](https://www.coursera.org/learn/python-basics) \n",
    "- Coursera: [\"Crash Course on Python\"](https://www.coursera.org/learn/python-crash-course)\n",
    "- Interactive course: [\"100 Days of Code\"](https://replit.com/learn/100-days-of-python)"
   ]
  },
  {
   "cell_type": "markdown",
   "id": "ebcadf85",
   "metadata": {},
   "source": [
    "# Machine Learning in a Nutshell\n",
    "\n",
    "---\n",
    "\n",
    "Machine learning is a branch of **artificial intelligence**. Machine learning methods are learning from the available data to give more accurate predictions. During this course we'll be working mostly with **supervised learning**, in which all data has a label assigned to it. For example, in toxicity prediction, the model will be trained using a compound representation and its binary toxicity label (toxic or non-toxic). If the labels are discrete, i.e. they are classes or categories, we're talking about **classification methods**. If the labels are continuous (e.g. solubility of a compound can be expressed in grams per liter of the solvent), we're talking about **regression methods**.\n",
    "\n",
    "We will also touch on the topic of **unsupervised learning** when the labels are unknown, so we'll be trying to discover relationships in the data without knowing ground truth assignments to any of the classes. The most typical example of unsupervised learning in chemistry is **generative modeling**. Such model takes as an input a set of molecules and tries to generate new molecules that are similar to the provided ones. Thus, the model learns features of the training set and similarity between compounds. Another example of an unsupervised method is **clustering** which aims at extracting groups of similar objects.\n",
    "\n",
    "Finally, there is another class of methods that doesn't require any input data, but rather it creates new data on its own by interacting with the (virtual) environment. These algorithms are known as **reinforcement learning**. In drug design, these methods are especially useful, as we want to optimize the chemical properties of the generated drug candidates.\n",
    "\n",
    "## Machine Learning Materials\n",
    "\n",
    "The recommended ML courses:\n",
    "\n",
    "- JU course: [\"Neural Networks\"](https://github.com/gmum/nn2019)\n",
    "- JU course: [\"Machine Learning\"](https://github.com/gmum/ml2017)\n",
    "- Coursera: [\"Machine Learning\"](https://www.coursera.org/learn/machine-learning)\n",
    "- Coursera: [\"Deep Learning\"](https://www.coursera.org/specializations/deep-learning)"
   ]
  },
  {
   "cell_type": "markdown",
   "id": "f4b15380",
   "metadata": {},
   "source": [
    "## Example Code for Training Linear Regression"
   ]
  },
  {
   "cell_type": "code",
   "execution_count": 2,
   "id": "24d4b79c",
   "metadata": {},
   "outputs": [
    {
     "data": {
      "image/png": "[encoded data removed]",
      "text/plain": [
       "<Figure size 640x480 with 1 Axes>"
      ]
     },
     "metadata": {},
     "output_type": "display_data"
    }
   ],
   "source": [
    "from sklearn.linear_model import LinearRegression\n",
    "\n",
    "import matplotlib.pyplot as plt\n",
    "import numpy as np\n",
    "\n",
    "\n",
    "# generate random data\n",
    "x = np.random.uniform(0., 1., size=50)\n",
    "y = 2 * x + 3 + np.random.normal(scale=0.1, size=50)\n",
    "\n",
    "# split the data into the training and testing sets\n",
    "x_train = x[:40]\n",
    "y_train = y[:40]\n",
    "\n",
    "x_test = x[40:]\n",
    "y_test = y[40:]\n",
    "\n",
    "# create a linear regression model and train it using the training data\n",
    "reg = LinearRegression()\n",
    "reg.fit(x_train.reshape(-1, 1), y_train)\n",
    "\n",
    "# construct the line corresponding to the trained linear model\n",
    "x_range = np.arange(0., 1., 0.01)\n",
    "y_pred = reg.predict(x_range.reshape(-1, 1))\n",
    "\n",
    "# plot everything\n",
    "plt.plot(x_range, y_pred, c='k', ls='--', alpha=0.3)\n",
    "plt.scatter(x_train, y_train)\n",
    "plt.scatter(x_test, y_test, marker='v')\n",
    "plt.xlabel('feature $x$')\n",
    "plt.ylabel('label $y$')\n",
    "plt.show()"
   ]
  },
  {
   "cell_type": "markdown",
   "id": "82ec9b6c",
   "metadata": {},
   "source": [
    "# Molecular Represenations\n",
    "\n",
    "---\n",
    "\n",
    "Chemical compounds are not easily understandable for computers. They are highly structured and multidimensional, so it poses a challenge to encode them in the bits of a computer drive. There are many numerical representations of molecules, each of them tailored for a different purpose. Two of the most standard molecular representations are described below. The first one is most often used to store chemical compound datasets on a computer. The second one can be used by classical machine learning models to learn property prediction tasks.\n",
    "\n",
    "## SMILES\n",
    "\n",
    "Simplified molecular-input line-entry system (SMILES) is a textual representation of a compound. It is the most basic representation for storing molecules in the databases due to the following two reasons:\n",
    "\n",
    "1. text can be easily saved in CSV files,\n",
    "2. this representation can be used to deterministically identify a compound (and to some extent also its spatial arrangement).\n",
    "\n",
    "Of course there are some drawbacks of this representation. One is that the inverse transformation can be ambiguous because one compound can be represented using multiple different SIMLES strings. Also, the linear representation doesn't capture well the complexity of chemical structures.\n",
    "\n",
    "### Simplified Procedure of SMILES Construction\n",
    "\n",
    "![smiles](https://upload.wikimedia.org/wikipedia/commons/0/00/SMILES.png)\n",
    "\n",
    "1. Prepare the structural formula of a compound;\n",
    "2. Cut all the rings to create a connected tree of atoms;\n",
    "3. Select any starting atom and write down all the bonds and atoms as you travel across the compound (DFS order);\n",
    "4. Alternative paths should be in parentheses to mark the branches;\n",
    "5. Atoms near the ring cuts should be marked with matching indices (watch out for the index collisions).\n",
    "\n",
    "The above algorithm can be extended to include ordering rules, e.g. \"find the longest path in the structural formula and use it as the main path\", and make the SMILES representation deterministic (so called **canonical SMILES**).\n",
    "\n",
    "In SMILES, you can also encode the spatial geometry of a compound. The SMILES strings listed below can be copy-pasted to the input below to see these compounds in 3D. Let's see how these well-known drugs are presented in the 3D space.\n",
    "\n",
    "#### Popular drugs \n",
    "\n",
    "1. Ibuprofen: `CC(C)CC1=CC=C(C=C1)C(C)C(=O)O` lub `CC(C)Cc1ccc(cc1)C(C)C(=O)O`\n",
    "2. Penicillin: `CC1(C(N2C(S1)C(C2=O)NC(=O)CC3=CC=CC=C3)C(=O)O)C` lub `CC1(C(N2C(S1)C(C2=O)NC(=O)CC1=CC=CC=C1)C(=O)O)C`\n",
    "3. Fluoxetine: `CNCCC(C1=CC=CC=C1)OC2=CC=C(C=C2)C(F)(F)F`\n",
    "4. THC: `CCCCCC1=CC2=C(C3C=C(CCC3C(O2)(C)C)C)C(=C1)O`\n",
    "\n",
    "#### SMILES and the spatial arrangement of atoms\n",
    "\n",
    "The spatial arrangement is very important when designing drugs. Sometimes two compounds with the same structural formula (not considering the geometry) have completely different biological effects. Thalidomide is an infamous example that was designed as a painkiller and antiemetic, but its mirror-image form turned out to be teratogenic.\n",
    "\n",
    "(R)-talidomid: `C1CC(=O)NC(=O)[C@@H]1N2C(=O)C3=CC=CC=C3C2=O`\n",
    "\n",
    "(S)-talidomid: `C1CC(=O)NC(=O)[C@H]1N2C(=O)C3=CC=CC=C3C2=O`\n",
    "\n",
    "#### Similariy of the compounds having similar effects\n",
    "\n",
    "Oftentimes compounds inducing similar effects also have a similar structural formula and spatial arrangement of atoms. Many drugs were developed by modifying the substances that were known to have some therapeutic effects to make them more potent. The following three substances are opioids, and the first two of them are natural (extracted from opium poppy), and the third one is a narcotic obtained synthetically.\n",
    "\n",
    "Do you see any difference between these molecules?\n",
    "\n",
    "morphine: `CN1CC[C@]23[C@@H]4[C@H]1CC5=C2C(=C(C=C5)O)O[C@H]3[C@H](C=C4)O`\n",
    "\n",
    "codeine: `COC1=C(O2)C3=C(C=C1)C[C@@H]4[C@]5([H])C=C[C@H](O)[C@H]2[C@@]53CCN4C`\n",
    "\n",
    "heroine: `CC(=O)OC1C=CC2C3CC4=C5C2(C1OC5=C(C=C4)OC(=O)C)CCN3C`"
   ]
  },
  {
   "cell_type": "code",
   "execution_count": 5,
   "id": "019a3631-7044-49ac-9663-b8e9abd3c4d6",
   "metadata": {},
   "outputs": [],
   "source": [
    "from rdkit.Chem.Fingerprints import FingerprintMols\n",
    "from rdkit import Chem\n",
    "\n",
    "c_smiles = [\"CN1CC[C@]23[C@@H]4[C@H]1CC5=C2C(=C(C=C5)O)O[C@H]3[C@H](C=C4)O\", \"COC1=C(O2)C3=C(C=C1)C[C@@H]4[C@]5([H])C=C[C@H](O)[C@H]2[C@@]53CCN4C\", \"CC(=O)OC1C=CC2C3CC4=C5C2(C1OC5=C(C=C4)OC(=O)C)CCN3C\"]\n",
    "morphine = Chem.MolFromSmiles(\"CN1CC[C@]23[C@@H]4[C@H]1CC5=C2C(=C(C=C5)O)O[C@H]3[C@H](C=C4)O\")\n",
    "codeine = Chem.MolFromSmiles(\"COC1=C(O2)C3=C(C=C1)C[C@@H]4[C@]5([H])C=C[C@H](O)[C@H]2[C@@]53CCN4C\")\n",
    "heroine = Chem.MolFromSmiles(\"CC(=O)OC1C=CC2C3CC4=C5C2(C1OC5=C(C=C4)OC(=O)C)CCN3C\")\n",
    "\n",
    "ms = [morphine, codeine, heroine]\n",
    "\n",
    "fps = [FingerprintMols.FingerprintMol(x, minPath=1, maxPath=7, fpSize=2048, bitsPerHash=2, useHs=True, tgtDensity=0.0, minSize=128) for x in ms]"
   ]
  },
  {
   "cell_type": "code",
   "execution_count": 12,
   "id": "0b96e7ef-044b-4d4c-8bf7-293756fc709a",
   "metadata": {},
   "outputs": [
    {
     "name": "stdout",
     "output_type": "stream",
     "text": [
      "[0.9940239043824701, 0.933291770573566]\n",
      "[0.9389027431421446]\n",
      "\n",
      "                                               query  \\\n",
      "0  CN1CC[C@]23[C@@H]4[C@H]1CC5=C2C(=C(C=C5)O)O[C@...   \n",
      "2  COC1=C(O2)C3=C(C=C1)C[C@@H]4[C@]5([H])C=C[C@H]...   \n",
      "1  CN1CC[C@]23[C@@H]4[C@H]1CC5=C2C(=C(C=C5)O)O[C@...   \n",
      "\n",
      "                                              target  Similarity  \n",
      "0  COC1=C(O2)C3=C(C=C1)C[C@@H]4[C@]5([H])C=C[C@H]...    0.994024  \n",
      "2  CC(=O)OC1C=CC2C3CC4=C5C2(C1OC5=C(C=C4)OC(=O)C)...    0.938903  \n",
      "1  CC(=O)OC1C=CC2C3CC4=C5C2(C1OC5=C(C=C4)OC(=O)C)...    0.933292  \n"
     ]
    }
   ],
   "source": [
    "from rdkit import DataStructs\n",
    "import pandas as pd\n",
    "\n",
    "# the list for the dataframe\n",
    "qu, ta, sim = [], [], []\n",
    "\n",
    "# compare all fp pairwise without duplicates\n",
    "for n in range(len(fps) - 1): # -1 so the last fp will not be used\n",
    "    s = DataStructs.BulkTanimotoSimilarity(fps[n], fps[n+1:]) # +1 compare with the next to the last fp\n",
    "    # print(c_smiles[n], c_smiles[n+1:]) # witch mol is compared with what group\n",
    "    # collect the SMILES and values\n",
    "    print(s)\n",
    "    for m in range(len(s)):\n",
    "        qu.append(c_smiles[n])\n",
    "        ta.append(c_smiles[n+1:][m])\n",
    "        sim.append(s[m])\n",
    "print()\n",
    "\n",
    "# build the dataframe and sort it\n",
    "d = {'query':qu, 'target':ta, 'Similarity':sim}\n",
    "df_final = pd.DataFrame(data=d)\n",
    "df_final = df_final.sort_values('Similarity', ascending=False)\n",
    "print(df_final)\n",
    "\n",
    "# save as csv\n",
    "df_final.to_csv('similarity.csv', index=False, sep=',')"
   ]
  },
  {
   "cell_type": "markdown",
   "id": "e05a98e8-7cf6-4072-81f5-8c8e0769173c",
   "metadata": {},
   "source": [
    "---\n",
    "\n",
    "<div style=\"display: flex; justify-content: space-between\">\n",
    "    <div style=\"width: 20%; display: inline-block; margin: 20px\">\n",
    "        <img src=\"../../assets/profile1.png\" width=\"100%\">\n",
    "    </div>\n",
    "    <div style=\"width: 60%; display: inline-block; margin: 20px\">\n",
    "        <p><strong>Nitro:</strong> Hey there! Let's talk about molecular conformations and why they're super important in drug design!\n",
    "\n",
    "Imagine molecules as tiny, 3D puzzles. Now, each molecule can twist and turn in different ways, just like how you can arrange puzzle pieces in various configurations. These different arrangements are called *conformations*.\n",
    "\n",
    "Now, why do we care about these conformations in drug design? Well, here's the deal: the shape of a molecule is crucial for how it interacts with other molecules in the body, like enzymes or receptors. Just like puzzle pieces need to fit together perfectly to complete the picture, molecules need to fit together in specific ways to do their job effectively.\n",
    "    </div>\n",
    "</div>\n",
    "Here are a few examples of why conformations matter:\n",
    "\n",
    "1. Receptor Binding: Let's say you're designing a drug to target a specific receptor in the body, like a lock and key. The shape of your drug molecule needs to match the shape of the receptor's binding site for it to work. By tweaking the conformation of your molecule, you can optimize its fit and enhance its effectiveness.\n",
    "\n",
    "2. Enzyme Activity: Enzymes are like little molecular machines that help chemical reactions happen in the body. The shape of the molecule can affect how well it fits into the enzyme's active site, influencing the rate of the reaction. By understanding and manipulating molecular conformations, we can design molecules that either enhance or inhibit enzyme activity.\n",
    "\n",
    "3. Stability and Reactivity: Sometimes, the way a molecule folds or twists can affect its stability or reactivity. For example, certain conformations may make a molecule more prone to breaking down in the body, reducing its effectiveness as a drug. By studying different conformations, we can identify more stable or reactive structures for better drug design.\n",
    "\n",
    "So, whether we're aiming to improve how a drug binds to its target, enhance its activity, or ensure its stability, considering molecular conformations is key to unlocking the full potential of new chemical structures in drug discovery. It's like solving a fascinating puzzle with real-world implications for improving human health!\n",
    "\n",
    "---"
   ]
  },
  {
   "cell_type": "code",
   "execution_count": 3,
   "id": "feb53eb5",
   "metadata": {},
   "outputs": [
    {
     "data": {
      "application/vnd.jupyter.widget-view+json": {
       "model_id": "92b5732a90fe4582a773b2135c74ffb0",
       "version_major": 2,
       "version_minor": 0
      },
      "text/plain": [
       "interactive(children=(Text(value='', description='smiles'), Output()), _dom_classes=('widget-interact',))"
      ]
     },
     "metadata": {},
     "output_type": "display_data"
    }
   ],
   "source": [
    "import py3Dmol\n",
    "from rdkit import Chem\n",
    "from rdkit.Chem import AllChem\n",
    "\n",
    "from ipywidgets import interact\n",
    "\n",
    "\n",
    "@interact\n",
    "def show_molecule(smiles=''):\n",
    "    if not smiles:\n",
    "        return\n",
    "    mol = Chem.MolFromSmiles(smiles)\n",
    "    display(mol)\n",
    "    if not mol:\n",
    "        return\n",
    "    mol = Chem.AddHs(mol)\n",
    "    AllChem.EmbedMolecule(mol)\n",
    "    AllChem.MMFFOptimizeMolecule(mol)\n",
    "    mblock = Chem.MolToMolBlock(mol, kekulize=False)\n",
    "\n",
    "    view = py3Dmol.view(width=800, height=500)\n",
    "    view.addModel(Chem.MolToMolBlock(mol, kekulize=True), 'mol')\n",
    "    view.setStyle({'model': -1}, {\"stick\": {'color': 'white', 'radius': 0.15}, \"sphere\": {'radius': .4}})\n",
    "    view.zoomTo({'model': -1})\n",
    "    view.show()"
   ]
  },
  {
   "cell_type": "markdown",
   "id": "54edfab0",
   "metadata": {},
   "source": [
    "## Molecular Fingerprints\n",
    "\n",
    "The textual representation is not perfect for use in machine learning although the advances in natural language processing enabled the effective use of this representation as well. The linearization of the compound makes the analysis of the local features (e.g. atom neighborhood) more challenging. \n",
    "\n",
    "An alternative approach is to represent a compound as a molecular fingerprint. The compound is converted to a numerical vector that encode selected substructures present in the compound. The set of substructures can be pre-defined as in Molecular ACCess System (**MACCS**) which consists of 166 bits associated with keys describing specific pattern in the molecular structures. (the patterns can be found [here](https://github.com/rdkit/rdkit/blob/master/rdkit/Chem/MACCSkeys.py))\n",
    "\n",
    "![maccs](https://oi.readthedocs.io/en/latest/_images/maccs.png)\n",
    "\n",
    "More flexible fingerprints encode all the local neighborhoods in a molecular graph. For example, Extended Connectivity FingerPrint (**ECFP**) uses the circular neighbourhood of an atom with of a given radius. For each atom in the molecule, all atoms that are not further than the radius are found. These neighborhoods are encoded into an integer taking into account the atom types (element symbol), they are hashed and mapped to the correct position in the fingerprint vector. In this case, as opposed to the MACCS keys, no atom is omitted in the encoding.\n",
    "\n",
    "![ecfp](https://docs.chemaxon.com/display/docs/images/download/attachments/1806333/ecfp_generation.png)\n",
    "\n",
    "You can easily notice that the downside of this representation is that the original compound cannot be decoded from the fingerprint. It can happen that two compounds are encoded in the same way, e.g. due to a hash collision when the fingerprint is too short. However, this representation gives excellent results in machine learning, outperforming even complex molecular descriptors (initially compounds were represented using values derived from compounds theoretically or experimentally)."
   ]
  },
  {
   "cell_type": "markdown",
   "id": "c480f279",
   "metadata": {},
   "source": [
    "## Classical Machine Learning Models\n",
    "\n",
    "\n",
    "### Linear Regression / Logistic Regression\n",
    "\n",
    "`from sklearn.linear_model import LinearRegression`\n",
    "\n",
    "`from sklearn.linear_model import LogisticRegression`\n",
    "\n",
    "[Nice example of polynomial features!](https://scikit-learn.org/stable/auto_examples/model_selection/plot_underfitting_overfitting.html#sphx-glr-auto-examples-model-selection-plot-underfitting-overfitting-py)\n",
    "\n",
    "![linear](https://static.javatpoint.com/tutorial/machine-learning/images/linear-regression-in-machine-learning.png)\n",
    "![logistic](https://static.javatpoint.com/tutorial/machine-learning/images/logistic-regression-in-machine-learning.png)\n",
    "\n",
    "### Random Forest\n",
    "\n",
    "`from sklearn.ensemble import RandomForestRegressor`\n",
    "\n",
    "`from sklearn.ensemble import RandomForestClassifier`\n",
    "\n",
    "![rf](rf_diagram.png)\n",
    "\n",
    "### SVM\n",
    "\n",
    "`from sklearn.svm import SVR`\n",
    "\n",
    "`from sklearn.svm import SVC`\n",
    "\n",
    "![svm](https://upload.wikimedia.org/wikipedia/commons/thumb/7/72/SVM_margin.png/300px-SVM_margin.png)"
   ]
  },
  {
   "cell_type": "markdown",
   "id": "3e27933c-8595-4d3c-bd1d-1776b6940de8",
   "metadata": {},
   "source": [
    "---\n",
    "\n",
    "<div style=\"display: flex; justify-content: space-between\">\n",
    "    <div style=\"width: 20%; display: inline-block; margin: 20px\">\n",
    "        <img src=\"../../assets/profile3.png\" width=\"100%\">\n",
    "    </div>\n",
    "    <div style=\"width: 60%; display: inline-block; margin: 20px\">\n",
    "        <p><strong>Orion:</strong> Ah, well, h-h-hello there! As a cheminformatician, let me tell you about the wonders of machine learning models, particularly in our domain. Now, brace yourself for a whirlwind tour of advantages!\n",
    "\n",
    "First off, let's talk about Random Forests. Picture this: a forest of decision trees, each one casting its vote on the outcome. These bad boys are fantastic for handling high-dimensional data, like chemical fingerprints. They excel in dealing with noisy and missing data, plus they're less prone to overfitting compared to some other models. Random Forests are like a robust army, ready to tackle any challenge thrown their way!\n",
    "\n",
    "Next up, Support Vector Machines (SVMs). Think of SVMs as bold boundary setters. They carve out the best possible separation between different classes in your data space. Their strength lies in their ability to handle complex relationships in high-dimensional spaces. With their kernel trick, they can transform your data into higher dimensions, where seemingly messy data can become beautifully separable. SVMs are like the precision surgeons of the machine learning world!\n",
    "\n",
    "And then we have Linear Regression, the classic workhorse of predictive modeling. Don't underestimate its simplicity; sometimes, simplicity is its own form of genius! Linear Regression is fantastic for teasing out linear relationships between variables. In cheminformatics, it can be invaluable for tasks like quantitative structure-activity relationship (QSAR) modeling. It's like the reliable compass guiding us through the vast wilderness of data!\n",
    "    </div>\n",
    "</div>\n",
    "\n",
    "---"
   ]
  },
  {
   "cell_type": "markdown",
   "id": "fed1eb55",
   "metadata": {},
   "source": [
    "## Programming Exercise\n",
    "\n",
    "The code below can be used to load the data and contains the model training template. The goal is to train the best possible model that predicts two molecular properties. The first dataset is AqSolDB, which is a dataset of aqueous solubility. This is important for drug absorption in the organism. The second dataset is Blood-Brain Barrier Permeability (BBBP), which is a key property of compounds that need to impact the central nervous system.\n",
    "\n",
    "The datasets have different types of labels: AqSolDB is a regression task (continuous labels) and BBBP is a binary classification task (can or cannot penetrate BBB)."
   ]
  },
  {
   "cell_type": "markdown",
   "id": "62c7f394",
   "metadata": {},
   "source": [
    "### Solubility"
   ]
  },
  {
   "cell_type": "code",
   "execution_count": 17,
   "id": "cc1433c3",
   "metadata": {
    "scrolled": true
   },
   "outputs": [
    {
     "name": "stderr",
     "output_type": "stream",
     "text": [
      "Found local copy...\n",
      "Loading...\n",
      "Done!\n",
      "[08:53:23] WARNING: not removing hydrogen atom without neighbors\n",
      "[08:53:23] WARNING: not removing hydrogen atom without neighbors\n",
      "[08:53:23] WARNING: not removing hydrogen atom without neighbors\n",
      "[08:53:23] WARNING: not removing hydrogen atom without neighbors\n",
      "[08:53:23] WARNING: not removing hydrogen atom without neighbors\n",
      "[08:53:23] WARNING: not removing hydrogen atom without neighbors\n",
      "[08:53:24] WARNING: not removing hydrogen atom without neighbors\n",
      "[08:53:24] WARNING: not removing hydrogen atom without neighbors\n",
      "[08:53:24] WARNING: not removing hydrogen atom without neighbors\n",
      "[08:53:24] WARNING: not removing hydrogen atom without neighbors\n",
      "[08:53:24] WARNING: not removing hydrogen atom without neighbors\n",
      "[08:53:24] WARNING: not removing hydrogen atom without neighbors\n",
      "[08:53:24] WARNING: not removing hydrogen atom without neighbors\n",
      "[08:53:24] WARNING: not removing hydrogen atom without neighbors\n",
      "[08:53:24] WARNING: not removing hydrogen atom without neighbors\n",
      "[08:53:24] WARNING: not removing hydrogen atom without neighbors\n",
      "[08:53:24] WARNING: not removing hydrogen atom without neighbors\n",
      "[08:53:24] WARNING: not removing hydrogen atom without neighbors\n",
      "[08:53:24] WARNING: not removing hydrogen atom without neighbors\n",
      "[08:53:24] WARNING: not removing hydrogen atom without neighbors\n",
      "[08:53:24] WARNING: not removing hydrogen atom without neighbors\n",
      "[08:53:24] WARNING: not removing hydrogen atom without neighbors\n",
      "[08:53:24] WARNING: not removing hydrogen atom without neighbors\n",
      "[08:53:24] WARNING: not removing hydrogen atom without neighbors\n",
      "[08:53:24] WARNING: not removing hydrogen atom without neighbors\n",
      "[08:53:24] WARNING: not removing hydrogen atom without neighbors\n",
      "[08:53:24] WARNING: not removing hydrogen atom without neighbors\n",
      "[08:53:24] WARNING: not removing hydrogen atom without neighbors\n",
      "[08:53:24] WARNING: not removing hydrogen atom without neighbors\n",
      "[08:53:24] WARNING: not removing hydrogen atom without neighbors\n",
      "[08:53:24] WARNING: not removing hydrogen atom without neighbors\n",
      "[08:53:24] WARNING: not removing hydrogen atom without neighbors\n",
      "[08:53:24] WARNING: not removing hydrogen atom without neighbors\n",
      "[08:53:24] WARNING: not removing hydrogen atom without neighbors\n",
      "[08:53:24] WARNING: not removing hydrogen atom without neighbors\n",
      "[08:53:24] WARNING: not removing hydrogen atom without neighbors\n",
      "[08:53:24] WARNING: not removing hydrogen atom without neighbors\n",
      "[08:53:25] WARNING: not removing hydrogen atom without neighbors\n",
      "[08:53:25] WARNING: not removing hydrogen atom without neighbors\n",
      "[08:53:25] WARNING: not removing hydrogen atom without neighbors\n",
      "[08:53:25] WARNING: not removing hydrogen atom without neighbors\n",
      "[08:53:25] WARNING: not removing hydrogen atom without neighbors\n",
      "[08:53:26] WARNING: not removing hydrogen atom without neighbors\n",
      "[08:53:26] WARNING: not removing hydrogen atom without neighbors\n",
      "[08:53:26] WARNING: not removing hydrogen atom without neighbors\n",
      "[08:53:26] WARNING: not removing hydrogen atom without neighbors\n",
      "[08:53:26] WARNING: not removing hydrogen atom without neighbors\n",
      "[08:53:26] WARNING: not removing hydrogen atom without neighbors\n",
      "[08:53:26] WARNING: not removing hydrogen atom without neighbors\n",
      "[08:53:27] WARNING: not removing hydrogen atom without neighbors\n",
      "[08:53:27] WARNING: not removing hydrogen atom without neighbors\n",
      "[08:53:27] WARNING: not removing hydrogen atom without neighbors\n",
      "[08:53:27] WARNING: not removing hydrogen atom without neighbors\n",
      "[08:53:27] WARNING: not removing hydrogen atom without neighbors\n",
      "[08:53:27] WARNING: not removing hydrogen atom without neighbors\n",
      "[08:53:27] WARNING: not removing hydrogen atom without neighbors\n",
      "[08:53:27] WARNING: not removing hydrogen atom without neighbors\n",
      "[08:53:27] WARNING: not removing hydrogen atom without neighbors\n",
      "[08:53:27] WARNING: not removing hydrogen atom without neighbors\n",
      "[08:53:27] WARNING: not removing hydrogen atom without neighbors\n",
      "[08:53:27] WARNING: not removing hydrogen atom without neighbors\n",
      "[08:53:27] WARNING: not removing hydrogen atom without neighbors\n",
      "[08:53:27] WARNING: not removing hydrogen atom without neighbors\n",
      "[08:53:27] WARNING: not removing hydrogen atom without neighbors\n",
      "[08:53:27] WARNING: not removing hydrogen atom without neighbors\n"
     ]
    },
    {
     "name": "stdout",
     "output_type": "stream",
     "text": [
      "X_test.shape :  (1996, 1024)\n",
      "RMSE, MAE, R2 = 1.3394648754128335, 0.9766309783181242, 0.6693810351098254\n"
     ]
    }
   ],
   "source": [
    "from tdc.single_pred.adme import ADME\n",
    "from tdc import Evaluator\n",
    "\n",
    "from sklearn.ensemble import RandomForestRegressor\n",
    "from sklearn.linear_model import LinearRegression\n",
    "\n",
    "from rdkit.Chem import AllChem\n",
    "from rdkit.Chem import DataStructs\n",
    "\n",
    "class Featurizer:\n",
    "    def __init__(self, y_column, smiles_col='Drug', **kwargs):\n",
    "        self.y_column = y_column\n",
    "        self.smiles_col = smiles_col\n",
    "        self.__dict__.update(kwargs)\n",
    "    \n",
    "    def __call__(self, df):\n",
    "        raise NotImplementedError()\n",
    "        \n",
    "class ECFPFeaturizer(Featurizer):\n",
    "    def __init__(self, y_column, radius=2, length=1024, **kwargs):\n",
    "        self.radius = radius\n",
    "        self.length = length\n",
    "        super().__init__(y_column, **kwargs)\n",
    "    \n",
    "    def __call__(self, df):\n",
    "        fingerprints = []\n",
    "        labels = []\n",
    "        for i, row in df.iterrows():\n",
    "            y = row[self.y_column]\n",
    "            smiles = row[self.smiles_col]\n",
    "            mol = Chem.MolFromSmiles(smiles)\n",
    "            fp = AllChem.GetMorganFingerprintAsBitVect(mol, self.radius, nBits=self.length)\n",
    "            fingerprints.append(fp)\n",
    "            labels.append(y)\n",
    "        fingerprints = np.array(fingerprints)\n",
    "        labels = np.array(labels)\n",
    "        return fingerprints, labels\n",
    "\n",
    "class CustomFeaturizer(Featurizer):\n",
    "    def __init__(self, y_column, radius=2, length=1024, **kwargs):\n",
    "        self.radius = radius\n",
    "        self.length = length\n",
    "        super().__init__(y_column, **kwargs)\n",
    "    \n",
    "    def __call__(self, df):\n",
    "        features = []\n",
    "        labels = []\n",
    "        for i, row in df.iterrows():\n",
    "            y = row[self.y_column]\n",
    "            smiles = row[self.smiles_col]\n",
    "            mol = Chem.MolFromSmiles(smiles)\n",
    "            fp = AllChem.GetMorganFingerprintAsBitVect(mol, self.radius, nBits=self.length)\n",
    "\n",
    "            array = np.zeros((0, ), dtype=np.int8)\n",
    "            DataStructs.ConvertToNumpyArray(fp, array)\n",
    "            np.append(array, [mol.GetNumAtoms(),mol.GetNumBonds()])\n",
    "           \n",
    "            features.append(array)\n",
    "            labels.append(y)\n",
    "            \n",
    "        fingerprints = np.array(features)\n",
    "        labels = np.array(labels)\n",
    "        # print(\"fig: \", fingerprints.shape)\n",
    "        # print(\"labels: \", labels.shape)\n",
    "        return fingerprints, labels\n",
    "\n",
    "\n",
    "def train(X_train, y_train, X_valid, y_valid):\n",
    "    #można użyć zbiór validacynjy do wyszukiwania parametrów - pętla\n",
    "    #n_estimatorsint, max_depthint\n",
    "    params=[]\n",
    "    for param in enumerate(params):\n",
    "        print(param)\n",
    "        \n",
    "    # model = LinearRegression() #ECFPFeaturizer, RMSE, MAE, R2 = 1.546244500660408, 1.1799845652618102, 0.5594233882993502\n",
    "    model = RandomForestRegressor(n_estimators=500) #ECFPFeaturizer, RMSE, MAE, R2 = 1.3394648754128335, 0.9766309783181242, 0.6693810351098254\n",
    "    #300 estimators, CustomFeaturizer:RMSE, MAE, R2 = 1.3465563320524445, 0.9818316369900915, 0.6658710118725049\n",
    "    #CustomFeaturizer: RMSE, MAE, R2 = 1.3483381311944087, 0.9821657122285314, 0.6649861701141058\n",
    "    model.fit(X_train, y_train)\n",
    "    return model\n",
    "\n",
    "\n",
    "def predict(model, X_test):\n",
    "    # TODO: use your trained model to predict solubility\n",
    "    print(\"X_test.shape : \", X_test.shape)\n",
    "    y_pred = model.predict(X_test) #predict_probd\n",
    "    return y_pred\n",
    "\n",
    "\n",
    "data = ADME('Solubility_AqSolDB')\n",
    "split = data.get_split()\n",
    "\n",
    "# TODO: write a new featurizer and replace the one below\n",
    "featurizer = CustomFeaturizer(y_column='Y')\n",
    "scores = []\n",
    "\n",
    "rmse = Evaluator(name = 'RMSE')\n",
    "mae = Evaluator(name = 'MAE')\n",
    "r_squared = Evaluator(name = 'R2') # cos jak kwadrat z korelacji - jak duza częśc jest poprawnie walidowana\n",
    "\n",
    "X_train, y_train = featurizer(split['train'])\n",
    "X_valid, y_valid = featurizer(split['valid'])\n",
    "X_test, y_test = featurizer(split['test'])\n",
    "\n",
    "model = train(X_train, y_train, X_valid, y_valid)\n",
    "predictions = predict(model, X_test)  # y_test won't be available during evaluation!\n",
    "rmse_score = rmse(y_test, predictions)\n",
    "mae_score = mae(y_test, predictions)\n",
    "r2_score = r_squared(y_test, predictions)\n",
    "print(f'RMSE, MAE, R2 = {rmse_score}, {mae_score}, {r2_score}')"
   ]
  },
  {
   "cell_type": "code",
   "execution_count": 18,
   "id": "cb0c74ef-ca03-4d8e-b616-5e71735f1bd4",
   "metadata": {},
   "outputs": [
    {
     "name": "stdout",
     "output_type": "stream",
     "text": [
      "RMSE, MAE, R2 = 1.3394648754128335, 0.9766309783181242, 0.6693810351098254\n"
     ]
    }
   ],
   "source": [
    "print(f'RMSE, MAE, R2 = {rmse_score}, {mae_score}, {r2_score}')"
   ]
  },
  {
   "cell_type": "code",
   "execution_count": 19,
   "id": "fbafb321-06a0-4e7c-ab00-0ff8db450850",
   "metadata": {},
   "outputs": [],
   "source": [
    "# Use this code to save your predictions\n",
    "import pandas as pd\n",
    "\n",
    "df = pd.DataFrame({'pred': predictions})\n",
    "df.index.name = 'mol_id'\n",
    "df.to_csv('predictions.csv')"
   ]
  },
  {
   "cell_type": "code",
   "execution_count": 23,
   "id": "6add0b85",
   "metadata": {},
   "outputs": [
    {
     "name": "stdout",
     "output_type": "stream",
     "text": [
      "The most soluble compounds in the dataset:\n"
     ]
    },
    {
     "name": "stderr",
     "output_type": "stream",
     "text": [
      "[14:09:57] WARNING: not removing hydrogen atom without neighbors\n",
      "[14:09:57] WARNING: not removing hydrogen atom without neighbors\n"
     ]
    },
    {
     "data": {
      "image/png": "[encoded data removed]",
      "text/plain": [
       "<IPython.core.display.Image object>"
      ]
     },
     "metadata": {},
     "output_type": "display_data"
    },
    {
     "name": "stdout",
     "output_type": "stream",
     "text": [
      "The least soluble compounds in the dataset:\n"
     ]
    },
    {
     "data": {
      "image/png": "[encoded data removed]",
      "text/plain": [
       "<IPython.core.display.Image object>"
      ]
     },
     "metadata": {},
     "output_type": "display_data"
    }
   ],
   "source": [
    "print('The most soluble compounds in the dataset:')\n",
    "smiles_list = split['train'].sort_values('Y', ascending=False).iloc[:10].Drug\n",
    "display(Chem.Draw.MolsToGridImage([Chem.MolFromSmiles(smiles) for smiles in smiles_list], molsPerRow=5))\n",
    "print('The least soluble compounds in the dataset:')\n",
    "smiles_list = split['train'].sort_values('Y', ascending=True).iloc[:10].Drug\n",
    "display(Chem.Draw.MolsToGridImage([Chem.MolFromSmiles(smiles) for smiles in smiles_list], molsPerRow=5))"
   ]
  },
  {
   "cell_type": "markdown",
   "id": "7538147c",
   "metadata": {},
   "source": [
    "### BBBP"
   ]
  },
  {
   "cell_type": "code",
   "execution_count": 31,
   "id": "9913996a",
   "metadata": {},
   "outputs": [
    {
     "name": "stderr",
     "output_type": "stream",
     "text": [
      "Found local copy...\n",
      "Loading...\n",
      "Done!\n",
      "100%|█████████████████████████████████████████████████████████████████████████████████████████████████████████████████████████████| 2030/2030 [00:00<00:00, 2581.59it/s]\n"
     ]
    },
    {
     "name": "stdout",
     "output_type": "stream",
     "text": [
      "ROC AUC, accuracy = 0.7747420262664164, 0.896551724137931\n"
     ]
    }
   ],
   "source": [
    "from tdc.single_pred.adme import ADME\n",
    "from tdc import Evaluator\n",
    "\n",
    "from sklearn.svm import SVC, LinearSVC\n",
    "from sklearn.linear_model import SGDClassifier\n",
    "\n",
    "\n",
    "class Featurizer:\n",
    "    def __init__(self, y_column, smiles_col='Drug', **kwargs):\n",
    "        self.y_column = y_column\n",
    "        self.smiles_col = smiles_col\n",
    "        self.__dict__.update(kwargs)\n",
    "    \n",
    "    def __call__(self, df):\n",
    "        raise NotImplementedError()\n",
    "        \n",
    "\n",
    "class ECFPFeaturizer(Featurizer):\n",
    "    def __init__(self, y_column, radius=2, length=1024, **kwargs):\n",
    "        self.radius = radius\n",
    "        self.length = length\n",
    "        super().__init__(y_column, **kwargs)\n",
    "    \n",
    "    def __call__(self, df):\n",
    "        fingerprints = []\n",
    "        labels = []\n",
    "        for i, row in df.iterrows():\n",
    "            y = row[self.y_column]\n",
    "            smiles = row[self.smiles_col]\n",
    "            mol = Chem.MolFromSmiles(smiles)\n",
    "            fp = AllChem.GetMorganFingerprintAsBitVect(mol, self.radius, nBits=self.length)\n",
    "            fingerprints.append(fp)\n",
    "            labels.append(y)\n",
    "        fingerprints = np.array(fingerprints)\n",
    "        labels = np.array(labels)\n",
    "        return fingerprints, labels\n",
    "\n",
    "\n",
    "def train(X_train, y_train, X_valid, y_valid):\n",
    "    # TODO: create and train your model \n",
    "    model = SVC() # ROC AUC, accuracy = 0.7747420262664164, 0.896551724137931\n",
    "    # model = LinearSVC() # ROC AUC, accuracy = 0.7256879299562227, 0.7857142857142857\n",
    "    # model = SGDClassifier() # ROC AUC, accuracy = 0.7637976860537836, 0.8472906403940886\n",
    "    model.fit(X_train, y_train)\n",
    "    return model\n",
    "\n",
    "\n",
    "def predict(model, X_test):\n",
    "    return model.predict(X_test)\n",
    "\n",
    "\n",
    "data = ADME('bbb_martins')\n",
    "split = data.get_split(method='scaffold')\n",
    "\n",
    "# TODO: write a new featurizer and replace the one below\n",
    "featurizer = ECFPFeaturizer(y_column='Y')\n",
    "scores = []\n",
    "\n",
    "roc_auc = Evaluator(name = 'ROC AUC')\n",
    "accuracy = Evaluator(name = 'Accuracy')\n",
    "\n",
    "X_train, y_train = featurizer(split['train'])\n",
    "X_valid, y_valid = featurizer(split['valid'])\n",
    "X_test, y_test = featurizer(split['test'])\n",
    "model = train(X_train, y_train, X_valid, y_valid)\n",
    "predictions = predict(model, X_test)  # y_test won't be available during evaluation!\n",
    "roc_auc_score = roc_auc(y_test, predictions)\n",
    "accuracy_score = accuracy(y_test, predictions)\n",
    "r2_score = r_squared(y_test, predictions)\n",
    "print(f'ROC AUC, accuracy = {roc_auc_score}, {accuracy_score}')"
   ]
  },
  {
   "cell_type": "code",
   "execution_count": null,
   "id": "1a3ddb94-a93a-4c03-a75f-77629c72bba3",
   "metadata": {},
   "outputs": [],
   "source": []
  }
 ],
 "metadata": {
  "kernelspec": {
   "display_name": "Python 3 (ipykernel)",
   "language": "python",
   "name": "python3"
  },
  "language_info": {
   "codemirror_mode": {
    "name": "ipython",
    "version": 3
   },
   "file_extension": ".py",
   "mimetype": "text/x-python",
   "name": "python",
   "nbconvert_exporter": "python",
   "pygments_lexer": "ipython3",
   "version": "3.9.18"
  }
 },
 "nbformat": 4,
 "nbformat_minor": 5
}
